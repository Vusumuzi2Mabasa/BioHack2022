{
  "nbformat": 4,
  "nbformat_minor": 0,
  "metadata": {
    "colab": {
      "provenance": [],
      "authorship_tag": "ABX9TyPwPbieJ1sQC7bgGuZDtVz6",
      "include_colab_link": true
    },
    "kernelspec": {
      "name": "python3",
      "display_name": "Python 3"
    },
    "language_info": {
      "name": "python"
    }
  },
  "cells": [
    {
      "cell_type": "markdown",
      "metadata": {
        "id": "view-in-github",
        "colab_type": "text"
      },
      "source": [
        "<a href=\"https://colab.research.google.com/github/Vusumuzi2Mabasa/BioHack2022/blob/main/Protein%20engineering.ipynb\" target=\"_parent\"><img src=\"https://colab.research.google.com/assets/colab-badge.svg\" alt=\"Open In Colab\"/></a>"
      ]
    },
    {
      "cell_type": "markdown",
      "source": [
        "#Install conda\n"
      ],
      "metadata": {
        "id": "Iv5wB_x_4paz"
      }
    },
    {
      "cell_type": "code",
      "execution_count": null,
      "metadata": {
        "id": "SXMQhW04y_pO"
      },
      "outputs": [],
      "source": [
        "! wget https://repo.anaconda.com/miniconda/Miniconda3-py37_4.8.2-Linux-x86_64.sh\n",
        "! chmod +x Miniconda3-py37_4.8.2-Linux-x86_64.sh\n",
        "! bash ./Miniconda3-py37_4.8.2-Linux-x86_64.sh -b -f -p /usr/local\n",
        "import sys\n",
        "sys.path.append('/usr/local/lib/python3.7/site-packages/')"
      ]
    },
    {
      "cell_type": "markdown",
      "source": [
        "#Download and Install Pfeature"
      ],
      "metadata": {
        "id": "bLs8fObI48TI"
      }
    },
    {
      "cell_type": "code",
      "source": [
        "! wget https://github.com/raghavagps/Pfeature/raw/master/PyLib/Pfeature.zip"
      ],
      "metadata": {
        "id": "Xtti6meTzTZ5"
      },
      "execution_count": null,
      "outputs": []
    },
    {
      "cell_type": "code",
      "source": [
        "! unzip Pfeature.zip"
      ],
      "metadata": {
        "id": "grzGlSJ6zUdo"
      },
      "execution_count": null,
      "outputs": []
    },
    {
      "cell_type": "code",
      "source": [
        "% cd Pfeature"
      ],
      "metadata": {
        "id": "J1_eEB41zZzh"
      },
      "execution_count": null,
      "outputs": []
    },
    {
      "cell_type": "code",
      "source": [
        "! python setup.py install"
      ],
      "metadata": {
        "id": "SsmKekUIzvd6"
      },
      "execution_count": null,
      "outputs": []
    },
    {
      "cell_type": "markdown",
      "source": [
        "#Install CD-HIT"
      ],
      "metadata": {
        "id": "muPtexL45JxR"
      }
    },
    {
      "cell_type": "code",
      "source": [
        "! conda install -c bioconda cd-hit -y"
      ],
      "metadata": {
        "id": "fdGDy2zNzzgR"
      },
      "execution_count": null,
      "outputs": []
    },
    {
      "cell_type": "markdown",
      "source": [
        "# Load peptide dataset"
      ],
      "metadata": {
        "id": "7KvK9Cll504c"
      }
    },
    {
      "cell_type": "code",
      "source": [
        "! wget https://raw.githubusercontent.com/dataprofessor/AMP/main/train_po.fasta"
      ],
      "metadata": {
        "id": "Y4gMMJkez0eY"
      },
      "execution_count": null,
      "outputs": []
    },
    {
      "cell_type": "code",
      "source": [
        "! cat train_ne.fasta"
      ],
      "metadata": {
        "id": "5t6_UgJYz7fx"
      },
      "execution_count": null,
      "outputs": []
    },
    {
      "cell_type": "code",
      "source": [
        "! cd-hit -i train_po.fasta -o train_po_cdhit.txt -c 0.99"
      ],
      "metadata": {
        "id": "3ra6KV7P0AQO"
      },
      "execution_count": null,
      "outputs": []
    },
    {
      "cell_type": "code",
      "source": [
        "! cd-hit -i train_ne.fasta -o train_ne_cdhit.txt -c 0.99"
      ],
      "metadata": {
        "id": "MAHmd22u0QYq"
      },
      "execution_count": null,
      "outputs": []
    },
    {
      "cell_type": "code",
      "source": [
        "! ls -l"
      ],
      "metadata": {
        "id": "0dYnsz6-0U_8"
      },
      "execution_count": null,
      "outputs": []
    },
    {
      "cell_type": "code",
      "source": [
        "! grep \">\" train_po_cdhit.txt | wc -l"
      ],
      "metadata": {
        "id": "KEWwYGRw0eoK"
      },
      "execution_count": null,
      "outputs": []
    },
    {
      "cell_type": "code",
      "source": [
        "! grep \">\" train_po.fasta | wc -l"
      ],
      "metadata": {
        "id": "JdpxG6UD0ilM"
      },
      "execution_count": null,
      "outputs": []
    },
    {
      "cell_type": "code",
      "source": [
        "! grep \">\" train_ne.fasta | wc -l"
      ],
      "metadata": {
        "id": "1dh0Hm200jqi"
      },
      "execution_count": null,
      "outputs": []
    },
    {
      "cell_type": "code",
      "source": [
        "! grep \">\" train_ne_cdhit.txt | wc -l"
      ],
      "metadata": {
        "id": "bZBRlJPb0pDa"
      },
      "execution_count": null,
      "outputs": []
    },
    {
      "cell_type": "markdown",
      "source": [
        "Calculate features using the Pfeature library\n",
        "Feature classes provided by Pfeature is summarized in the tables below.\n",
        "\n",
        "Composition Based Features\n",
        "\n",
        "Feature claass\tDescription\tFunction\n",
        "AAC\tAmino acid composition\taac_wp\n",
        "DPC\tDipeptide composition\tdpc_wp\n",
        "TPC\tTripeptide composition\ttpc_wp\n",
        "ABC\tAtom and bond composition\tatc_wp, btc_wp\n",
        "PCP\tPhysico-chemical properties\tpcp_wp\n",
        "AAI\tAmino acid index composition\taai_wp\n",
        "RRI\tRepetitive Residue Information\trri_wp\n",
        "DDR\tDistance distribution of residues\tddr_wp\n",
        "PRI\tPhysico-chemical properties repeat composition\tpri_wp\n",
        "SEP\tShannon entropy\tsep_wp\n",
        "SER\tShannon entropy of residue level\tser_wp\n",
        "SPC\tShannon entropy of physicochemical property\tspc_wp\n",
        "ACR\tAutocorrelation\tacr_wp\n",
        "CTC\tConjoint Triad Calculation\tctc_wp\n",
        "CTD\tComposition enhanced transition distribution\tctd_wp"
      ],
      "metadata": {
        "id": "LtunH4cY0z7S"
      }
    },
    {
      "cell_type": "markdown",
      "source": [
        "Define functions for calculating the different features"
      ],
      "metadata": {
        "id": "kXhLS8Eq6Jpp"
      }
    },
    {
      "cell_type": "code",
      "source": [
        "import pandas as pd"
      ],
      "metadata": {
        "id": "dCeJqEx01Uor"
      },
      "execution_count": null,
      "outputs": []
    },
    {
      "cell_type": "code",
      "source": [
        "# Amino acid composition (AAC)\n",
        "\n",
        "from Pfeature.pfeature import aac_wp\n",
        "\n",
        "def aac(input):\n",
        "  a = input.rstrip('txt')\n",
        "  output = a + 'aac.csv'\n",
        "  df_out = aac_wp(input, output)\n",
        "  df_in = pd.read_csv(output)\n",
        "  return df_in\n",
        "\n",
        "aac('train_po_cdhit.txt')"
      ],
      "metadata": {
        "id": "Xktk1dMb1cY-"
      },
      "execution_count": null,
      "outputs": []
    },
    {
      "cell_type": "code",
      "source": [
        "# Dipeptide composition (DPC)\n",
        "\n",
        "from Pfeature.pfeature import dpc_wp\n",
        "\n",
        "def dpc(input):\n",
        "  a = input.rstrip('txt')\n",
        "  output = a + 'dpc.csv'\n",
        "  df_out = dpc_wp(input, output, 1)\n",
        "  df_in = pd.read_csv(output)\n",
        "  return df_in\n",
        "\n",
        "feature = dpc('train_po_cdhit.txt')\n",
        "feature"
      ],
      "metadata": {
        "id": "K4RxiVjf1gNy"
      },
      "execution_count": null,
      "outputs": []
    },
    {
      "cell_type": "markdown",
      "source": [
        "#Calculate feature for both positive and negative classes + combines the two classes + merge with class labels"
      ],
      "metadata": {
        "id": "Lftn0kM56WU3"
      }
    },
    {
      "cell_type": "code",
      "source": [
        "pos = 'train_po_cdhit.txt'\n",
        "neg = 'train_ne_cdhit.txt'\n",
        "\n",
        "def feature_calc(po, ne, feature_name):\n",
        "  # Calculate feature\n",
        "  po_feature = feature_name(po)\n",
        "  ne_feature = feature_name(ne)\n",
        "  # Create class labels\n",
        "  po_class = pd.Series(['positive' for i in range(len(po_feature))])\n",
        "  ne_class = pd.Series(['negative' for i in range(len(ne_feature))])\n",
        "  # Combine po and ne\n",
        "  po_ne_class = pd.concat([po_class, ne_class], axis=0)\n",
        "  po_ne_class.name = 'class'\n",
        "  po_ne_feature = pd.concat([po_feature, ne_feature], axis=0)\n",
        "  # Combine feature and class\n",
        "  df = pd.concat([po_ne_feature, po_ne_class], axis=1)\n",
        "  return df\n",
        "\n",
        "feature = feature_calc(pos, neg, aac) # AAC\n",
        "#feature = feature_calc(pos, neg, dpc) # DPC\n",
        "feature"
      ],
      "metadata": {
        "id": "_HMgz7kZ1oZ9"
      },
      "execution_count": null,
      "outputs": []
    },
    {
      "cell_type": "markdown",
      "source": [
        "#Data pre-processing"
      ],
      "metadata": {
        "id": "Er9x-ZjD6fxp"
      }
    },
    {
      "cell_type": "code",
      "source": [
        "feature"
      ],
      "metadata": {
        "id": "T3P2abSU1wtS"
      },
      "execution_count": null,
      "outputs": []
    },
    {
      "cell_type": "code",
      "source": [
        "# Assigns the features to X and class label to Y\n",
        "X = feature.drop('class', axis=1)\n",
        "y = feature['class'].copy()"
      ],
      "metadata": {
        "id": "ynKbH8dB13ns"
      },
      "execution_count": null,
      "outputs": []
    },
    {
      "cell_type": "code",
      "source": [
        "# Encoding the Y class label\n",
        "y = y.map({\"positive\": 1, \"negative\": 0}) "
      ],
      "metadata": {
        "id": "BU2imXBV19F-"
      },
      "execution_count": null,
      "outputs": []
    },
    {
      "cell_type": "code",
      "source": [
        "X.shape"
      ],
      "metadata": {
        "id": "SiMxUCA72AmB"
      },
      "execution_count": null,
      "outputs": []
    },
    {
      "cell_type": "code",
      "source": [
        "# Feature selection (Variance threshold)\n",
        "from sklearn.feature_selection import VarianceThreshold\n",
        "\n",
        "fs = VarianceThreshold(threshold=0.1)\n",
        "fs.fit_transform(X)\n",
        "#X2.shape\n",
        "X2 = X.loc[:, fs.get_support()]\n",
        "X2"
      ],
      "metadata": {
        "id": "Qnlies6u2J5h"
      },
      "execution_count": null,
      "outputs": []
    },
    {
      "cell_type": "code",
      "source": [
        "# Data split\n",
        "from sklearn.model_selection import train_test_split\n",
        "\n",
        "X_train, X_test, y_train, y_test = train_test_split(X2, y, test_size=0.2, random_state =42, stratify=y)"
      ],
      "metadata": {
        "id": "YhNxducK2K-C"
      },
      "execution_count": null,
      "outputs": []
    },
    {
      "cell_type": "markdown",
      "source": [
        "#Quickly compare >30 ML algorithms"
      ],
      "metadata": {
        "id": "RmKI--RC6qOj"
      }
    },
    {
      "cell_type": "code",
      "source": [
        "! pip install lazypredict"
      ],
      "metadata": {
        "id": "0_8PHjmu2SQ3"
      },
      "execution_count": null,
      "outputs": []
    },
    {
      "cell_type": "code",
      "source": [
        "# Import libraries\n",
        "import lazypredict\n",
        "from lazypredict.Supervised import LazyClassifier\n",
        "from sklearn.model_selection import train_test_split\n",
        "from sklearn.metrics import matthews_corrcoef\n",
        "\n",
        "# Load dataset\n",
        "X = feature.drop('class', axis=1)\n",
        "y = feature['class'].copy()\n",
        "\n",
        "# Data split\n",
        "X_train, X_test, y_train, y_test = train_test_split(X, y, test_size=0.2, random_state =42, stratify=y)\n",
        "\n",
        "# Defines and builds the lazyclassifier\n",
        "clf = LazyClassifier(verbose=0,ignore_warnings=True, custom_metric=matthews_corrcoef)\n",
        "models_train,predictions_train = clf.fit(X_train, X_train, y_train, y_train)\n",
        "#models_test,predictions_test = clf.fit(X_train, X_test, y_train, y_test)"
      ],
      "metadata": {
        "id": "HY-93SLB2ZXG"
      },
      "execution_count": null,
      "outputs": []
    },
    {
      "cell_type": "code",
      "source": [
        "# Prints the model performance (Training set)\n",
        "models_train"
      ],
      "metadata": {
        "id": "pVIgMa_22jxg"
      },
      "execution_count": null,
      "outputs": []
    },
    {
      "cell_type": "code",
      "source": [
        "# Prints the model performance (Test set)\n",
        "models_test"
      ],
      "metadata": {
        "id": "T_bKY4ai2lBv"
      },
      "execution_count": null,
      "outputs": []
    },
    {
      "cell_type": "code",
      "source": [
        "y_test"
      ],
      "metadata": {
        "id": "EnH6a3lh2191"
      },
      "execution_count": null,
      "outputs": []
    },
    {
      "cell_type": "code",
      "source": [
        "# Plot of Accuracy\n",
        "import matplotlib.pyplot as plt\n",
        "import seaborn as sns\n",
        "\n",
        "plt.figure(figsize=(5, 10))\n",
        "sns.set_theme(style=\"whitegrid\")\n",
        "ax = sns.barplot(y=models_train.index, x=\"Accuracy\", data=models_train)\n",
        "ax.set(xlim=(0, 1))"
      ],
      "metadata": {
        "id": "BP4pcj0-29Ce"
      },
      "execution_count": null,
      "outputs": []
    },
    {
      "cell_type": "code",
      "source": [
        "# Plot of MCC\n",
        "import matplotlib.pyplot as plt\n",
        "import seaborn as sns\n",
        "\n",
        "plt.figure(figsize=(5, 10))\n",
        "sns.set_theme(style=\"whitegrid\")\n",
        "ax = sns.barplot(y=models_train.index, x=\"matthews_corrcoef\", data=models_train)\n",
        "ax.set(xlim=(0, 1))"
      ],
      "metadata": {
        "id": "LHu3eJlC3AHH"
      },
      "execution_count": null,
      "outputs": []
    },
    {
      "cell_type": "markdown",
      "source": [
        "#Random Forest"
      ],
      "metadata": {
        "id": "TZVsM99m60Pk"
      }
    },
    {
      "cell_type": "code",
      "source": [
        "# Build random forest model\n",
        "\n",
        "from sklearn.ensemble import RandomForestClassifier\n",
        "\n",
        "rf = RandomForestClassifier(n_estimators=500)\n",
        "\n",
        "rf.fit(X_train, y_train)"
      ],
      "metadata": {
        "id": "zUEJ06zx3DZg"
      },
      "execution_count": null,
      "outputs": []
    },
    {
      "cell_type": "markdown",
      "source": [
        "#Apply the model to make predictions"
      ],
      "metadata": {
        "id": "5r7-MUVB6-BA"
      }
    },
    {
      "cell_type": "code",
      "source": [
        "y_train_pred = rf.predict(X_train)\n",
        "y_test_pred = rf.predict(X_test)"
      ],
      "metadata": {
        "id": "EIw-jx4f3KhX"
      },
      "execution_count": null,
      "outputs": []
    },
    {
      "cell_type": "code",
      "source": [
        "feature['class']"
      ],
      "metadata": {
        "id": "Zbo03tFU3LnK"
      },
      "execution_count": null,
      "outputs": []
    },
    {
      "cell_type": "code",
      "source": [
        "# Simplest and quickest way to obtain the model performance (Accuracy)\n",
        "rf.score(X_test,y_test)"
      ],
      "metadata": {
        "id": "zWTw930l3TFA"
      },
      "execution_count": null,
      "outputs": []
    },
    {
      "cell_type": "code",
      "source": [
        "# Accuracy\n",
        "from sklearn.metrics import accuracy_score\n",
        "\n",
        "accuracy_score(y_test, y_test_pred)"
      ],
      "metadata": {
        "id": "IvuS8RN03WMi"
      },
      "execution_count": null,
      "outputs": []
    },
    {
      "cell_type": "code",
      "source": [
        "# Matthew Correlation Coefficient\n",
        "from sklearn.metrics import matthews_corrcoef\n",
        "\n",
        "matthews_corrcoef(y_test, y_test_pred)"
      ],
      "metadata": {
        "id": "98uxpJyZ3d5o"
      },
      "execution_count": null,
      "outputs": []
    },
    {
      "cell_type": "code",
      "source": [
        "# Confusion matrix\n",
        "from sklearn.metrics import confusion_matrix\n",
        "\n",
        "confusion_matrix(y_test, y_test_pred)"
      ],
      "metadata": {
        "id": "AfSPgxOQ3fB9"
      },
      "execution_count": null,
      "outputs": []
    },
    {
      "cell_type": "code",
      "source": [
        "# Classification report\n",
        "from sklearn.metrics import classification_report\n",
        "\n",
        "model_report = classification_report(y_train, y_train_pred, target_names=['positive','negative'])\n",
        "\n",
        "f = open('model_report.txt','w')\n",
        "f.writelines(model_report) \n",
        "f.close()"
      ],
      "metadata": {
        "id": "CdDdyhsa3fNM"
      },
      "execution_count": null,
      "outputs": []
    },
    {
      "cell_type": "code",
      "source": [
        "# ROC curve\n",
        "import matplotlib.pyplot as plt\n",
        "from sklearn.metrics import plot_roc_curve\n",
        "\n",
        "plot_roc_curve(rf, X_test, y_test)  \n",
        "plt.show()"
      ],
      "metadata": {
        "id": "JKxCiHQ43fYK"
      },
      "execution_count": null,
      "outputs": []
    },
    {
      "cell_type": "code",
      "source": [
        "plot_roc_curve(rf, X_train, y_train)  \n",
        "plt.show()"
      ],
      "metadata": {
        "id": "6dVjneml3nTM"
      },
      "execution_count": null,
      "outputs": []
    },
    {
      "cell_type": "markdown",
      "source": [
        "#Feature importance"
      ],
      "metadata": {
        "id": "cFoul_Zv7IfV"
      }
    },
    {
      "cell_type": "code",
      "source": [
        "# Display Dataframe of the dataset after feature selection (variance threshold)\n",
        "X2"
      ],
      "metadata": {
        "id": "YACCg7yS3xaT"
      },
      "execution_count": null,
      "outputs": []
    },
    {
      "cell_type": "code",
      "source": [
        "# Retrieve feature importance from the RF model\n",
        "importance = pd.Series(rf.feature_importances_, name = 'Gini')\n",
        "\n",
        "# Retrieve feature names\n",
        "feature_names = pd.Series(X2.columns, name = 'Feature')"
      ],
      "metadata": {
        "id": "umuid6bE3xdM"
      },
      "execution_count": null,
      "outputs": []
    },
    {
      "cell_type": "code",
      "source": [
        "# Combine feature names and Gini values into a Dataframe\n",
        "df = pd.concat([feature_names, importance], axis=1, names=['Feature', 'Gini'])\n",
        "df"
      ],
      "metadata": {
        "id": "tk-ui6Ji3xgL"
      },
      "execution_count": null,
      "outputs": []
    },
    {
      "cell_type": "code",
      "source": [
        "# Plot of feature importance\n",
        "import matplotlib.pyplot as plt\n",
        "import seaborn as sns\n",
        "\n",
        "df_sorted = df.sort_values('Gini', ascending=False)[:20] # Sort by Gini in descending order; Showing only the top 20 results\n",
        "\n",
        "plt.figure(figsize=(5, 10))\n",
        "sns.set_theme(style=\"whitegrid\")\n",
        "ax = sns.barplot(x = 'Gini', y = 'Feature', data = df_sorted)\n",
        "plt.xlabel(\"Feature Importance\")\n"
      ],
      "metadata": {
        "id": "HgDuipad3xjV"
      },
      "execution_count": null,
      "outputs": []
    }
  ]
}